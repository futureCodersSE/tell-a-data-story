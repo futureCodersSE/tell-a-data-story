{
  "nbformat": 4,
  "nbformat_minor": 0,
  "metadata": {
    "colab": {
      "name": "Learn Bar Chart.ipynb",
      "provenance": [],
      "collapsed_sections": [],
      "include_colab_link": true
    },
    "kernelspec": {
      "name": "python3",
      "display_name": "Python 3"
    },
    "language_info": {
      "name": "python"
    }
  },
  "cells": [
    {
      "cell_type": "markdown",
      "metadata": {
        "id": "view-in-github",
        "colab_type": "text"
      },
      "source": [
        "<a href=\"https://colab.research.google.com/github/futureCodersSE/tell-a-data-story/blob/main/Learn_Bar_Chart.ipynb\" target=\"_parent\"><img src=\"https://colab.research.google.com/assets/colab-badge.svg\" alt=\"Open In Colab\"/></a>"
      ]
    },
    {
      "cell_type": "markdown",
      "metadata": {
        "id": "AVCxMzqnFpGg"
      },
      "source": [
        "# Using Python code to change the data for creating a chart\n",
        "---\n",
        "\n",
        "You have now looked at a dataset using Pandas, dropped rows of data with missing values (nodata) and changed datatypes.  Let's use the same dataset to practise creating a bar chart.\n",
        "\n",
        "## Setting up\n",
        "\n",
        "In the cell code below, write the code to:\n",
        "* import the pandas library\n",
        "* store the link (url)\n",
        "* create a dataframe from the dataset  (df= )\n",
        "* display the dataframe (df) info\n",
        "* drop the rows that have no data in the 'NO2 Level' column\n",
        "* change the datatype for the Date column to datetime\n",
        "* change the datatype for the NO2 Level column to float\n",
        "\n",
        "\n",
        "\n",
        "\n",
        "\n",
        "\n",
        " "
      ]
    },
    {
      "cell_type": "code",
      "metadata": {
        "id": "-TvPXkxFFmNJ"
      },
      "source": [
        "# copy the relevant code lines from the Learn 1 worksheet here\n"
      ],
      "execution_count": null,
      "outputs": []
    },
    {
      "cell_type": "markdown",
      "metadata": {
        "id": "DFkBpPeKi9f8"
      },
      "source": [
        "## Creating a Bar Chart\n",
        "\n",
        "Now you have linked to your dataset and your datatypes are correct for the Date and NO2 Levels, you can start to create a chart.  **Note**:  you must have run the code cell above before you can run the code cell below to make the chart.\n",
        "\n",
        "To start a chart you need to import a new library from Python (which must go before any code that needs to use it):\n",
        "```\n",
        "import matplotlib.pyplot as plt\n",
        "```\n",
        "In the code cell below, add the code to create a chart.  Every chart will need:\n",
        "\n",
        "1. A title\n",
        "2. A label for x axis \n",
        "3. A label for y axis\n",
        "4. A chart type and data\n",
        "5. A command to tell the chart to draw\n",
        "\n",
        "The codes for a bar chart showing the NO2 levels by date are:\n",
        "\n",
        "```\n",
        "1. plt.title('My chart title')\n",
        "2. plt.xlabel('x axis label')\n",
        "3. plt.ylabel('y axis label')\n",
        "4. x = df['Date']\n",
        "5. y = df['NO2 Level']\n",
        "6. plt.bar(x,y)\n",
        "7. plt.show()\n",
        "```\n",
        "**Note:** the code for line 6 always starts with plt.bar() and can include a width for the bars (which you can change, values depend on the number of bars), but the information in the brackets will depend on what data you are plotting.   \n",
        "\n",
        "Have a go at adding and running this code and see what your graph looks like, then change the title, x axis label and y axis label to something more appropriate.\n",
        "\n",
        "\n",
        "\n",
        "\n",
        "\n",
        "\n"
      ]
    },
    {
      "cell_type": "code",
      "metadata": {
        "id": "oXHNkyvhbOig"
      },
      "source": [
        "import matplotlib.pyplot as plt\n",
        "\n",
        "# add code below to create the chart\n"
      ],
      "execution_count": null,
      "outputs": []
    },
    {
      "cell_type": "markdown",
      "metadata": {
        "id": "vUWhsF1ihcak"
      },
      "source": [
        "## Changing the data\n",
        "\n",
        "If it is difficult to read the labels, use label rotation so the label appears vertically or on a slant:\n",
        "\n",
        "```\n",
        "plt.xticks(rotation=45)\n",
        "```\n",
        "\n",
        "Add this line to your code in the cell above (just after the label naming)\n"
      ]
    },
    {
      "cell_type": "markdown",
      "metadata": {
        "id": "d8LrSIQjhkuM"
      },
      "source": [
        "## Using groupby() to Simplify Data for a new chart\n",
        "\n",
        "The first bar chart has far too many bars to be of any use.  Data can be grouped to allow it to be easier to understand in a chart.  If for example you had hundreds of records that included dates and there were multiple entries for one month, it might be beneficial to calculate the maximum or minimum or average (mean or median) for an individual month.\n",
        "\n",
        "This dataset has a column called 'Day' with the days of the week that the measurements were taken.  For this exercise, we can group the data by Day and get the maximum NO2 level for all measurements on that particular day of the week (ie the highest measurement on a Friday).\n",
        "```\n",
        "y = df.groupby(['Day'])['NO2 Level'].max()\n",
        "plt.bar(y)\n",
        "```\n",
        "### Creating Labels\n",
        "\n",
        "A bar chart has x axis labels to show what each bar represents.  In this case, it will represent each different day in the Day column of your dataset (ie the days Mon to Sun, not repeated).  \n",
        "\n",
        "```\n",
        "x = df['Day'].unique()\n",
        "```\n",
        "\n",
        "In the code cell below:\n",
        "* create the new Month column \n",
        "* create a chart title \"NO2 highest levels for each day\"\n",
        "* create an x axis label \"Day of week\"\n",
        "* create a y axis label NO2 mg/m3\n",
        "* group the NO2 level data by Day, calculating the max (as above)\n",
        "* create the bar chart from labels list (x) and the grouped data (y), without giving a width for the bars\n",
        "* show the bar chart\n",
        "\n",
        "\n",
        "\n"
      ]
    },
    {
      "cell_type": "code",
      "metadata": {
        "id": "W8xSimyducP7"
      },
      "source": [
        "# clear out the previous chart\n",
        "plt.cla()\n",
        "\n",
        "# add code below to create the second chart\n"
      ],
      "execution_count": null,
      "outputs": []
    },
    {
      "cell_type": "markdown",
      "metadata": {
        "id": "MzRd2pjWx0F9"
      },
      "source": [
        "You have now learnt the basics of creating a bar chart using a dataset and the matplotlib.pyplot library.  To learn how to change the style of a chart further, look at the worksheet called [Learn Styling Charts](https://colab.research.google.com/drive/1pTb2VbP6Etnbd-nyIqLSZKU_mezUFr1A?usp=sharing)."
      ]
    }
  ]
}