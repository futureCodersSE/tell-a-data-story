{
  "nbformat": 4,
  "nbformat_minor": 0,
  "metadata": {
    "colab": {
      "name": "Learn Line Chart.ipynb",
      "provenance": [],
      "collapsed_sections": [],
      "include_colab_link": true
    },
    "kernelspec": {
      "display_name": "Python 3",
      "name": "python3"
    },
    "language_info": {
      "name": "python"
    }
  },
  "cells": [
    {
      "cell_type": "markdown",
      "metadata": {
        "id": "view-in-github",
        "colab_type": "text"
      },
      "source": [
        "<a href=\"https://colab.research.google.com/github/futureCodersSE/tell-a-data-story/blob/main/Learn_Line_Chart.ipynb\" target=\"_parent\"><img src=\"https://colab.research.google.com/assets/colab-badge.svg\" alt=\"Open In Colab\"/></a>"
      ]
    },
    {
      "cell_type": "markdown",
      "metadata": {
        "id": "AVCxMzqnFpGg"
      },
      "source": [
        "# Using Python code to change the data for creating a chart\n",
        "---\n",
        "\n",
        "You have now looked at a dataset using Pandas, dropped rows of data with missing values (nodata) and changed datatypes.  Let's use the same dataset to practise creating a line chart.\n",
        "\n",
        "## Setting up\n",
        "\n",
        "In the cell code below, write the code to:\n",
        "* import the pandas library\n",
        "* store the link (url)\n",
        "* create a dataframe from the dataset  (df= )\n",
        "* display the dataframe (df) info\n",
        "* drop the rows that have no data in the 'NO2 Level' column\n",
        "* change the datatype for the Date column to datetime\n",
        "* change the datatype for the NO2 Level column to float\n",
        "\n",
        "\n",
        "\n",
        "\n",
        "\n",
        "\n",
        " "
      ]
    },
    {
      "cell_type": "code",
      "metadata": {
        "id": "-TvPXkxFFmNJ"
      },
      "source": [
        "# copy the 7 relevant code lines from the Learn 1 worksheet here\n",
        "import pandas as pd\n",
        "\n"
      ],
      "execution_count": null,
      "outputs": []
    },
    {
      "cell_type": "markdown",
      "metadata": {
        "id": "DFkBpPeKi9f8"
      },
      "source": [
        "## Creating a Line Chart\n",
        "\n",
        "Now you have linked to your dataset and your datatypes are correct for the Date and NO2 Levels, you can start to create a chart.  **Note**:  you must have run the code cell above before you can run the code cell below to make the chart.\n",
        "\n",
        "To start a chart you need to import a new library from Python (which must go before any code that needs to use it):\n",
        "```\n",
        "import matplotlib.pyplot as plt\n",
        "```\n",
        "In the code cell below, add the code to create a chart.  Every line chart will need:\n",
        "\n",
        "1. A title\n",
        "2. A label for x axis \n",
        "3. A label for y axis\n",
        "4. Some data to plot against the y axis\n",
        "5. A chart type and data\n",
        "6. A command to tell the chart to draw\n",
        "\n",
        "The codes for a line chart showing the NO2 levels by date are:\n",
        "\n",
        "```\n",
        "1. plt.title('My chart title')\n",
        "2. plt.xlabel('x axis label')\n",
        "3. plt.ylabel('y axis label')\n",
        "4. y = df['NO2 Level']\n",
        "5. plt.plot(y)\n",
        "6. plt.show()\n",
        "```\n",
        "**Note:** the code for line 5 always starts with plt.plot(), but the information in the brackets will depend on what data you are plotting.  (For these charts we are not adding x-axis values as there would be far too many)   \n",
        "\n",
        "Have a go at adding and running this code and see what your graph looks like, then change the title, x axis label and y axis label to something more appropriate.\n"
      ]
    },
    {
      "cell_type": "code",
      "metadata": {
        "id": "oXHNkyvhbOig"
      },
      "source": [
        "import matplotlib.pyplot as plt\n",
        "\n",
        "# add code below to create the line chart\n",
        "\n"
      ],
      "execution_count": null,
      "outputs": []
    },
    {
      "cell_type": "markdown",
      "metadata": {
        "id": "vUWhsF1ihcak"
      },
      "source": [
        "## Changing the data\n",
        "\n",
        "Now lets clear the last chart and make a new one that is a bit more meaningful."
      ]
    },
    {
      "cell_type": "markdown",
      "metadata": {
        "id": "d8LrSIQjhkuM"
      },
      "source": [
        "## Using groupby() to Simplify Data (linechart2)\n",
        "\n",
        "Data can be grouped to allow it to be easier to understand in a chart.  If for example you had hundreds of records that included dates and there were multiple entries for one month, it might be beneficial to calculate the maximum or minimum or average (mean or median) for an individual month.\n",
        "\n",
        "In this dataset, the month is included in the date so can't be accessed easily on its own.  So, you can create new columns and extract, or calculate data from existing columns to get the data you need.\n",
        "\n",
        "The example below creates a new column called Month, and extracts the month of the date to populate the new column:\n",
        "```\n",
        "df['Month'] = df['Date'].dt.month\n",
        "```\n",
        "\n",
        "Now there is a Month column, the data can be grouped by month\n",
        "```\n",
        "y = df.groupby(['Month'])['NO2 Level'].mean()\n",
        "plt.plot(y)\n",
        "```\n",
        "In the code cell below:\n",
        "* create the new Month column \n",
        "* create a chart title \"NO2 levels by month\"\n",
        "* create an x axis label \"Month number\"\n",
        "* create a y axis label NO2 mg/m3\n",
        "* group the NO2 level data by month, calculating the mean (as above)\n",
        "* plot the grouped data (y)\n",
        "* use plt.xticks to show the number of ticks and their labels\n",
        "* show the plot\n",
        "\n",
        "\n",
        "\n",
        "\n"
      ]
    },
    {
      "cell_type": "code",
      "metadata": {
        "id": "W8xSimyducP7"
      },
      "source": [
        "# clear the current chart\n",
        "plt.cla()\n",
        "\n"
      ],
      "execution_count": null,
      "outputs": []
    },
    {
      "cell_type": "markdown",
      "metadata": {
        "id": "Bd_X33c64E06"
      },
      "source": [
        "## Using groupby() to Simplify Existing Column\n",
        "\n",
        "In this dataset, the Weekday is included as a separate column and we can use this to find out the maximum levels per weekday.\n",
        "\n",
        "The example below uses Weekday to produce a line chart:\n",
        "\n",
        "```\n",
        "y = df.groupby(['Weekday'])['NO2 Level'].max()\n",
        "```\n",
        "The number of \"ticks\" or markers on the chart can be edited and corresponding labels using the following code:\n",
        "```\n",
        "plt.xticks([1, 2, 3], [\"Jan\", \"Feb\", \"Mar\"])\n",
        "```\n",
        "In the code cell below:\n",
        "\n",
        "* change the y axis to group by weekday and the maximum level of NO2\n",
        "* create a chart title \"NO2 levels by weekday\"\n",
        "* create an x axis label \"Max by weekday\"\n",
        "* create a y axis label \"Days of week\"\n",
        "* group the NO2 level data by weekday, calculating the max (as above)\n",
        "* plot the grouped data (y)\n",
        "* show the plot\n"
      ]
    },
    {
      "cell_type": "code",
      "metadata": {
        "id": "L366kOIN0-gt"
      },
      "source": [
        "# clear the current chart\n",
        "plt.cla()\n",
        "\n"
      ],
      "execution_count": null,
      "outputs": []
    },
    {
      "cell_type": "markdown",
      "metadata": {
        "id": "MzRd2pjWx0F9"
      },
      "source": [
        "You have now learnt the basics of creating a line chart using a dataset and the matplotlib.pyplot library.  To learn how to change the style of a chart further complete the worksheet called [Learn Styling Charts](https://colab.research.google.com/drive/1pTb2VbP6Etnbd-nyIqLSZKU_mezUFr1A?usp=sharing)."
      ]
    }
  ]
}