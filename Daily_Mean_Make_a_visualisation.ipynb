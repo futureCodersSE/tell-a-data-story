{
  "nbformat": 4,
  "nbformat_minor": 0,
  "metadata": {
    "colab": {
      "name": "Daily Mean Make a visualisation.ipynb",
      "provenance": [],
      "collapsed_sections": [],
      "include_colab_link": true
    },
    "kernelspec": {
      "name": "python3",
      "display_name": "Python 3"
    },
    "language_info": {
      "name": "python"
    }
  },
  "cells": [
    {
      "cell_type": "markdown",
      "metadata": {
        "id": "view-in-github",
        "colab_type": "text"
      },
      "source": [
        "<a href=\"https://colab.research.google.com/github/futureCodersSE/tell-a-data-story/blob/main/Daily_Mean_Make_a_visualisation.ipynb\" target=\"_parent\"><img src=\"https://colab.research.google.com/assets/colab-badge.svg\" alt=\"Open In Colab\"/></a>"
      ]
    },
    {
      "cell_type": "markdown",
      "metadata": {
        "id": "xWRHWcO8oKV7"
      },
      "source": [
        "# Make a visualisation\n",
        "\n",
        "Use the code cell below to:\n",
        "\n",
        "* import the pandas library\n",
        "* store the link (url)\n",
        "* create a dataframe from the dataset  (df= )\n",
        "* display the dataframe (df) info\n",
        "* drop the rows that have no data in the 'NO2 Level' column\n",
        "* change the datatype for the Date column to datetime\n",
        "* change the datatype for the NO2 Level column to float\n",
        "\n",
        "Choose the url for your chosen dataset from this list:\n",
        "\n",
        "### NO2-daily-mean-2014-2021-Rochester-Stoke.csv\n",
        "https://drive.google.com/uc?id=16aM_5IUWKrpY2Hq3SRWcElHg-NbzX84x  \n",
        "\n",
        "### NO2-measurement-data-2020-Rochester-Stoke.csv\n",
        "https://drive.google.com/uc?id=1QSNJ3B1ku8kjXsA_tCBh4fbpDK7wVLAA  \n",
        "\n",
        "###NO2-daily-mean 2014-2-21-Swale-Newington.csv\n",
        "https://drive.google.com/uc?id=142uY47X9XLXnHhLdTNjtGR2xu0mG914n\n",
        "\n",
        "### NO2-measurement-data-2020-Swale-Newington.csv\n",
        "https://drive.google.com/uc?id=1Lvrd5hWxKnk67OIQM4sP1Ly_gFaN8QpE\n",
        "\n",
        "###NO2-daily-mean 2014-2-21-Swale-Ospringe.csv\n",
        "https://drive.google.com/uc?id=14VhDFa5UE8RaZjLa4OR7MYa4WseNGENP\n",
        "\n",
        "### NO2-measurement-data-2020-Swale-Ospringe.csv\n",
        "https://drive.google.com/uc?id=1frgM9uNYHMoqn1Dfh3nPE8j2zgXJwYCm\n"
      ]
    },
    {
      "cell_type": "code",
      "metadata": {
        "id": "wzt08wuZoHV9",
        "colab": {
          "base_uri": "https://localhost:8080/"
        },
        "outputId": "c8d9a575-4dbb-48f9-9000-a308b858e059"
      },
      "source": [
        "# prepare the data using the code in the learning worksheets, changing the url to the one for your chosen dataset\n",
        "import pandas as pd\n",
        "#swale/newington daily mean\n",
        "#url = 'https://drive.google.com/uc?id=142uY47X9XLXnHhLdTNjtGR2xu0mG914n'\n",
        "#Swale / Ospringe daily mean\n",
        "url = 'https://drive.google.com/uc?id=14VhDFa5UE8RaZjLa4OR7MYa4WseNGENP'\n",
        "df = pd.read_csv(url,skiprows = 1)\n",
        "print(df.head())\n"
      ],
      "execution_count": null,
      "outputs": [
        {
          "output_type": "stream",
          "name": "stdout",
          "text": [
            "         Date Nitrogen dioxide   Status\n",
            "0  11/08/2014           nodata  P µg/m³\n",
            "1  12/08/2014           nodata  P µg/m³\n",
            "2  13/08/2014           nodata  P µg/m³\n",
            "3  14/08/2014           nodata  P µg/m³\n",
            "4  15/08/2014           nodata  P µg/m³\n"
          ]
        }
      ]
    },
    {
      "cell_type": "markdown",
      "metadata": {
        "id": "LyKb6H0aqWWX"
      },
      "source": [
        "## Add code to group data as needed for the chart you want to make"
      ]
    },
    {
      "cell_type": "code",
      "metadata": {
        "id": "vg0gQLbkqe8s",
        "colab": {
          "base_uri": "https://localhost:8080/",
          "height": 208
        },
        "outputId": "208b16df-3fd3-46f9-be98-75b18d20f434"
      },
      "source": [
        "df.drop(df[df['Nitrogen dioxide'] == 'nodata'].index, inplace = True)\n",
        "df['Date']=pd.to_datetime(df['Date'])\n",
        "df['Nitrogen dioxide']= df['Nitrogen dioxide'].astype(float)\n",
        "display (df.info())\n",
        "\n",
        "df['Year']=df['Date'].dt.year\n",
        "df['Month']=df['Date'].dt.month\n",
        "\n",
        "y = df.groupby(['Year'])['Nitrogen dioxide'].mean()\n",
        "y = df.groupby(['Month'])['Nitrogen dioxide'].mean()\n",
        "\n",
        "\n"
      ],
      "execution_count": null,
      "outputs": [
        {
          "output_type": "stream",
          "name": "stdout",
          "text": [
            "<class 'pandas.core.frame.DataFrame'>\n",
            "Int64Index: 1733 entries, 57 to 2555\n",
            "Data columns (total 3 columns):\n",
            " #   Column            Non-Null Count  Dtype         \n",
            "---  ------            --------------  -----         \n",
            " 0   Date              1733 non-null   datetime64[ns]\n",
            " 1   Nitrogen dioxide  1733 non-null   float64       \n",
            " 2   Status            1733 non-null   object        \n",
            "dtypes: datetime64[ns](1), float64(1), object(1)\n",
            "memory usage: 54.2+ KB\n"
          ]
        },
        {
          "output_type": "display_data",
          "data": {
            "text/plain": [
              "None"
            ]
          },
          "metadata": {}
        }
      ]
    },
    {
      "cell_type": "markdown",
      "metadata": {
        "id": "8ByaMMFHqf1L"
      },
      "source": [
        "## Create and style the chart"
      ]
    },
    {
      "cell_type": "code",
      "metadata": {
        "id": "D2I3sBXCqkMz",
        "colab": {
          "base_uri": "https://localhost:8080/",
          "height": 365
        },
        "outputId": "2d24a892-3d34-4927-eda5-8a5a8d28be8c"
      },
      "source": [
        "import matplotlib.pyplot as plt\n",
        "\n",
        "plt.title('My chart title')\n",
        "plt.xlabel('x axis label')\n",
        "plt.ylabel('y axis label')\n",
        "y = df.groupby(['Year'])['Nitrogen dioxide'].mean()\n",
        "plt.plot(y)\n",
        "ax = plt.axes()\n",
        "ax.set(facecolor = \"orange\")\n",
        "plt.xticks(rotation=45)\n",
        "plt.show()"
      ],
      "execution_count": null,
      "outputs": [
        {
          "output_type": "stream",
          "name": "stderr",
          "text": [
            "/usr/local/lib/python3.7/dist-packages/ipykernel_launcher.py:8: MatplotlibDeprecationWarning: Adding an axes using the same arguments as a previous axes currently reuses the earlier instance.  In a future version, a new instance will always be created and returned.  Meanwhile, this warning can be suppressed, and the future behavior ensured, by passing a unique label to each axes instance.\n",
            "  \n"
          ]
        },
        {
          "output_type": "display_data",
          "data": {
            "image/png": "[encoded data removed]",
            "text/plain": [
              "<Figure size 432x288 with 1 Axes>"
            ]
          },
          "metadata": {
            "needs_background": "light"
          }
        }
      ]
    },
    {
      "cell_type": "markdown",
      "metadata": {
        "id": "7RjhGvOLqlD8"
      },
      "source": [
        "## Finally\n",
        "\n",
        "To download your finished image to a file:\n",
        "\n",
        "* right-click on the image\n",
        "* select Save image as...\n",
        "* give the file a name (maybe the same as the chart title)\n",
        "* save it to the downloads folder\n",
        "\n",
        "Go to the Jamboard:  \n",
        "https://jamboard.google.com/d/1UW9tcJpLjaHDxFCaOHC01-sBF57_rxlrVvRQXdhm0jw/edit?usp=sharing\n",
        "\n",
        "\n",
        "Click on the right arrow at the top of the page to go to the 2nd screen  \n",
        "Click on the image icon in the tools bar on the left  \n",
        "Select your file from the download folder  \n",
        "Move the image to a suitable place on the Jamboard"
      ]
    }
  ]
}