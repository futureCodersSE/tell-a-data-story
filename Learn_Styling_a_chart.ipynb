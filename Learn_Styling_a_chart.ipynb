{
  "nbformat": 4,
  "nbformat_minor": 0,
  "metadata": {
    "colab": {
      "name": "Learn Styling a chart.ipynb",
      "provenance": [],
      "collapsed_sections": [],
      "include_colab_link": true
    },
    "kernelspec": {
      "name": "python3",
      "display_name": "Python 3"
    },
    "language_info": {
      "name": "python"
    }
  },
  "cells": [
    {
      "cell_type": "markdown",
      "metadata": {
        "id": "view-in-github",
        "colab_type": "text"
      },
      "source": [
        "<a href=\"https://colab.research.google.com/github/futureCodersSE/tell-a-data-story/blob/main/Learn_Styling_a_chart.ipynb\" target=\"_parent\"><img src=\"https://colab.research.google.com/assets/colab-badge.svg\" alt=\"Open In Colab\"/></a>"
      ]
    },
    {
      "cell_type": "markdown",
      "metadata": {
        "id": "Ugh5iUdg4tTB"
      },
      "source": [
        "# Making more visually appealing charts\n",
        "---\n",
        "\n",
        "Now that you can make a chart (line, bar, horizontal bar, pie).  You might want to start to play around with the colours, fonts, markers, etc to make it look as interesting as possible.\n",
        "\n",
        "Here's how.  First, get the data ready by running the code below."
      ]
    },
    {
      "cell_type": "code",
      "metadata": {
        "id": "6ulDe6m44pbd"
      },
      "source": [
        "import pandas as pd\n",
        "\n",
        "url = \"https://drive.google.com/uc?id=1aZBLNytkVHC8IkEgmcOIzPJTN4y8X8ns\"\n",
        "df = pd.read_csv(url, skiprows=1)\n",
        "df.drop(df[df['NO2 Level'] == 'nodata'].index, inplace = True)\n",
        "df['Date'] = pd.to_datetime(df['Date'])\n",
        "df['NO2 Level'] = df['NO2 Level'].astype(float)\n",
        "df['Day'] = df['Date'].dt.weekday"
      ],
      "execution_count": 30,
      "outputs": []
    },
    {
      "cell_type": "markdown",
      "metadata": {
        "id": "_At-iW0GPRvl"
      },
      "source": [
        "# Now style a line chart\n",
        "\n",
        "Here's a chart to show the NO2 Levels on each day of the week, run the code to make the chart."
      ]
    },
    {
      "cell_type": "code",
      "metadata": {
        "id": "z4TmqXH55gaz"
      },
      "source": [
        "import matplotlib.pyplot as plt\n",
        "\n",
        "plt.title('NO2 Levels by day')\n",
        "y = df.groupby(['Day'])['NO2 Level'].mean()\n",
        "x = ['Sun','Mon','Tue','Wed','Thu','Fri','Sat']\n",
        "plt.plot(x,y)\n",
        "\n",
        "plt.show()"
      ],
      "execution_count": null,
      "outputs": []
    },
    {
      "cell_type": "markdown",
      "metadata": {
        "id": "gQMTW9Zk6zaC"
      },
      "source": [
        "## Style the line chart\n",
        "\n",
        "You can:  \n",
        "*  thicken or change the style of the line\n",
        "*  add markers on line joins and style the joins  \n",
        "*  change the background colour\n",
        "*  change the line colour\n",
        "*  change the line style\n",
        "*  change the marker style and colour\n",
        "*  change the font and font size\n",
        "\n",
        "For a set of options see: [Styling Charts](https://docs.google.com/document/d/1J23frmFkt3NmsIOjRjJ7eLg8ppjSARZrVBTMEdnnHMw/edit?usp=sharing)\n",
        "\n",
        "## Style the line chart by editing the plt.plot(y) instruction in the code above.\n",
        "\n",
        "E.g.\n",
        "`plt.plot(y, linestyle=\"dotted\", color=\"darkmagenta\")`\n",
        "\n",
        "## Have a play!\n"
      ]
    },
    {
      "cell_type": "markdown",
      "metadata": {
        "id": "trr6Xmj9RJN1"
      },
      "source": [
        "# Now style a bar chart\n",
        "\n",
        "Here's one you made earlier, run the code to make the chart\n"
      ]
    },
    {
      "cell_type": "code",
      "metadata": {
        "id": "jZZYOzIfRPRz"
      },
      "source": [
        "import matplotlib.pyplot as plt\n",
        "\n",
        "#Create chart with appropriate labels\n",
        "plt.title('My chart title')\n",
        "plt.xlabel('x axis label')\n",
        "plt.ylabel('y axis label')\n",
        "#group by Month column, and the maximum levels of NO2 per month\n",
        "y = df.groupby(['Day'])['NO2 Level'].max()\n",
        "x = [\"Sun\",\"Mon\",\"Tues\",\"Wed\",\"Thurs\",\"Fri\",\"Sat\"]\n",
        "\n",
        "plt.bar(x, y)\n",
        "\n",
        "plt.show()"
      ],
      "execution_count": null,
      "outputs": []
    },
    {
      "cell_type": "markdown",
      "metadata": {
        "id": "w0BQhxQFgDYV"
      },
      "source": [
        "## Style the bar chart\n",
        "\n",
        "You can:   \n",
        "*  change the colour of the edge of the bars\n",
        "*  change the colour of the bar\n",
        "*  change the thickness of the edge of the bars\n",
        "\n",
        "For a set of options see: [Styling Charts](https://docs.google.com/document/d/1J23frmFkt3NmsIOjRjJ7eLg8ppjSARZrVBTMEdnnHMw/edit?usp=sharing)\n",
        "\n",
        "## Style the bar chart by editing the plt.bar(x,y) instruction in the code above.\n",
        "\n",
        "e.g.\n",
        "`plt.bar(x, y, edgecolor=\"red\", facecolor=\"darkmagenta\", color=\"yellow\", linewidth=5, tick-label=x)`\n",
        "\n",
        "# Have a play!"
      ]
    },
    {
      "cell_type": "markdown",
      "metadata": {
        "id": "D6Y0u2SHitYD"
      },
      "source": [
        "# Now style a pie chart\n",
        "\n",
        "Here's one you made earlier, run the code to make the chart"
      ]
    },
    {
      "cell_type": "code",
      "metadata": {
        "id": "xitXybj8g22t"
      },
      "source": [
        "import matplotlib.pyplot as plt\n",
        "\n",
        "#get a list of the means for each of the days\n",
        "data = df.groupby('Day')['NO2 Level'].median()\n",
        "\n",
        "#create labels. Get a list of all the unique values in the weekday column\n",
        "labels = df['Weekday'].unique()\n",
        "\n",
        "plt.title('My chart title')\n",
        "plt.pie(data, labels=labels)\n",
        "\n",
        "\n",
        "plt.show()"
      ],
      "execution_count": null,
      "outputs": []
    },
    {
      "cell_type": "markdown",
      "metadata": {
        "id": "RofjDS6ojOa9"
      },
      "source": [
        "## Style the pie chart\n",
        "\n",
        "You can:   \n",
        "*  explode the segments (separate individual segments out by a distance between 0 and 1, you must give the distance for every piece of the pie, even if 0)\n",
        "*  add a shadow for a 3D effect\n",
        "*  rotate the pie\n",
        "*  add the percentage of the pie to each segment\n",
        "\n",
        "\n",
        "For a set of options see: [Styling Charts](https://docs.google.com/document/d/1J23frmFkt3NmsIOjRjJ7eLg8ppjSARZrVBTMEdnnHMw/edit?usp=sharing)\n",
        "\n",
        "## Style the pie chart by editing the plt.pie(data, labels=labels) instruction in the code above.\n",
        "\n",
        "e.g.\n",
        "`plt.pie(data, labels=labels, explode=(0.2,0,0,0,0,0,0), shadow=True, startangle=90, autopct='%1.2f%%’)`\n",
        "\n",
        "# Have a play!"
      ]
    },
    {
      "cell_type": "markdown",
      "metadata": {
        "id": "bZgOk3xMlnCm"
      },
      "source": [
        "# Finally\n",
        "\n",
        "## Line and bar chart can have different colour backgrounds.\n",
        "\n",
        "Add these lines between plt.plot(...) or plt.bar(..) and plt.show()\n",
        "\n",
        "```\n",
        "ax = plt.axes()\n",
        "ax.set(facecolor = \"orange\")\n",
        "```\n",
        "\n",
        "## Text style can be changed\n",
        "\n",
        "By adding either or both of these two lines between plt.plot(...) or plt.bar(..) and plt.show()\n",
        "\n",
        "```\n",
        "plt.rcParams['font.style'] = \"italic\"\n",
        "plt.rcParams['font.size'] = 12\n",
        "```\n",
        "\n",
        "You may need to run the cell twice to see the difference.\n",
        "\n",
        "## Have a play!"
      ]
    }
  ]
}