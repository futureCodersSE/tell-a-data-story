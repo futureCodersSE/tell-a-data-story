{
  "nbformat": 4,
  "nbformat_minor": 0,
  "metadata": {
    "colab": {
      "name": "Make a visualisation.ipynb",
      "provenance": [],
      "collapsed_sections": [],
      "include_colab_link": true
    },
    "kernelspec": {
      "name": "python3",
      "display_name": "Python 3"
    },
    "language_info": {
      "name": "python"
    }
  },
  "cells": [
    {
      "cell_type": "markdown",
      "metadata": {
        "id": "view-in-github",
        "colab_type": "text"
      },
      "source": [
        "<a href=\"https://colab.research.google.com/github/futureCodersSE/tell-a-data-story/blob/main/Make_a_visualisation.ipynb\" target=\"_parent\"><img src=\"https://colab.research.google.com/assets/colab-badge.svg\" alt=\"Open In Colab\"/></a>"
      ]
    },
    {
      "cell_type": "markdown",
      "metadata": {
        "id": "xWRHWcO8oKV7"
      },
      "source": [
        "# Make a visualisation\n",
        "\n",
        "Use the code cell below to:\n",
        "\n",
        "* import the pandas library\n",
        "* store the link (url)\n",
        "* create a dataframe from the dataset  (df= )\n",
        "* display the dataframe (df) info\n",
        "* drop the rows that have no data in the 'NO2 Level' column\n",
        "* change the datatype for the Date column to datetime\n",
        "* change the datatype for the NO2 Level column to float\n",
        "\n",
        "Choose the url for your chosen dataset from this list:\n",
        "\n",
        "### NO2-daily-mean-2014-2021-Rochester-Stoke.csv\n",
        "https://drive.google.com/uc?id=16aM_5IUWKrpY2Hq3SRWcElHg-NbzX84x  \n",
        "\n",
        "### NO2-measurement-data-2020-Rochester-Stoke.csv\n",
        "https://drive.google.com/uc?id=1QSNJ3B1ku8kjXsA_tCBh4fbpDK7wVLAA  \n",
        "\n",
        "###NO2-daily-mean 2014-2-21-Swale-Newington.csv\n",
        "https://drive.google.com/uc?id=142uY47X9XLXnHhLdTNjtGR2xu0mG914n\n",
        "\n",
        "### NO2-measurement-data-2020-Swale-Newington.csv\n",
        "https://drive.google.com/uc?id=1Lvrd5hWxKnk67OIQM4sP1Ly_gFaN8QpE\n",
        "\n",
        "###NO2-daily-mean 2014-2-21-Swale-Ospringe.csv\n",
        "https://drive.google.com/uc?id=14VhDFa5UE8RaZjLa4OR7MYa4WseNGENP\n",
        "\n",
        "### NO2-measurement-data-2020-Swale-Ospringe.csv\n",
        "https://drive.google.com/uc?id=1frgM9uNYHMoqn1Dfh3nPE8j2zgXJwYCm\n"
      ]
    },
    {
      "cell_type": "code",
      "metadata": {
        "id": "wzt08wuZoHV9"
      },
      "source": [
        "# prepare the data using the code in the learning worksheets, changing the url to the one for your chosen dataset\n",
        "import pandas as pd\n",
        "\n",
        "\n"
      ],
      "execution_count": null,
      "outputs": []
    },
    {
      "cell_type": "markdown",
      "metadata": {
        "id": "LyKb6H0aqWWX"
      },
      "source": [
        "## Add code to group data as needed for the chart you want to make"
      ]
    },
    {
      "cell_type": "code",
      "metadata": {
        "id": "vg0gQLbkqe8s"
      },
      "source": [
        ""
      ],
      "execution_count": null,
      "outputs": []
    },
    {
      "cell_type": "markdown",
      "metadata": {
        "id": "8ByaMMFHqf1L"
      },
      "source": [
        "## Create and style the chart"
      ]
    },
    {
      "cell_type": "code",
      "metadata": {
        "id": "D2I3sBXCqkMz"
      },
      "source": [
        ""
      ],
      "execution_count": null,
      "outputs": []
    },
    {
      "cell_type": "markdown",
      "metadata": {
        "id": "7RjhGvOLqlD8"
      },
      "source": [
        "## Finally\n",
        "\n",
        "To download your finished image to a file:\n",
        "\n",
        "* right-click on the image\n",
        "* select Save image as...\n",
        "* give the file a name (maybe the same as the chart title)\n",
        "* save it to the downloads folder\n",
        "\n",
        "Go to the Jamboard:  \n",
        "https://jamboard.google.com/d/1UW9tcJpLjaHDxFCaOHC01-sBF57_rxlrVvRQXdhm0jw/edit?usp=sharing\n",
        "\n",
        "\n",
        "Click on the right arrow at the top of the page to go to the 2nd screen  \n",
        "Click on the image icon in the tools bar on the left  \n",
        "Select your file from the download folder  \n",
        "Move the image to a suitable place on the Jamboard"
      ]
    }
  ]
}