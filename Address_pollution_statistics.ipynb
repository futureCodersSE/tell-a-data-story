{
  "nbformat": 4,
  "nbformat_minor": 0,
  "metadata": {
    "colab": {
      "provenance": [],
      "authorship_tag": "ABX9TyPtN4gZUmSK+89VoW2xNrnP",
      "include_colab_link": true
    },
    "kernelspec": {
      "name": "python3",
      "display_name": "Python 3"
    },
    "language_info": {
      "name": "python"
    }
  },
  "cells": [
    {
      "cell_type": "markdown",
      "metadata": {
        "id": "view-in-github",
        "colab_type": "text"
      },
      "source": [
        "<a href=\"https://colab.research.google.com/github/futureCodersSE/tell-a-data-story/blob/main/Address_pollution_statistics.ipynb\" target=\"_parent\"><img src=\"https://colab.research.google.com/assets/colab-badge.svg\" alt=\"Open In Colab\"/></a>"
      ]
    },
    {
      "cell_type": "markdown",
      "source": [
        "# Use this notebook to help calculate statistics from the air pollution data you collect\n",
        "---\n",
        "\n"
      ],
      "metadata": {
        "id": "sGOqWHZs801P"
      }
    },
    {
      "cell_type": "markdown",
      "source": [
        "## Calculate the average level of PM2.5\n",
        "---\n",
        "\n",
        "Enter the 20 numbers from the PM2.5 column in the data collection sheet into the square brackets [ ]\n",
        "\n",
        "Add commas to separate the numbers e.g. [1,2,3,4,5]\n",
        "\n",
        "When you have added the list of numbers, click on the play button ![image.png](data:image/png;base64,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)\n",
        " to get the answer\n"
      ],
      "metadata": {
        "id": "9FG7gbQo9BHH"
      }
    },
    {
      "cell_type": "code",
      "execution_count": null,
      "metadata": {
        "id": "Gm7xIOhK8wLX"
      },
      "outputs": [],
      "source": [
        "pm25_level = [ ]\n",
        "\n",
        "# calculate the average by finding the sum of all the numbers and then dividing it by the length of the list, then print the answer\n",
        "average = sum(pm25_level) / len(pm25_level)\n",
        "print(\"Average PM25: \", average)"
      ]
    },
    {
      "cell_type": "markdown",
      "source": [
        "---\n"
      ],
      "metadata": {
        "id": "d72xpNnPAdjf"
      }
    },
    {
      "cell_type": "markdown",
      "source": [
        "## Calculate the average level of PM10\n",
        "---\n",
        "\n",
        "Enter the 20 numbers from the PM10 column in the data collection sheet into the square brackets [ ]\n",
        "\n",
        "Add commas to separate the numbers e.g. [1,2,3,4,5] then click the play button to run the code.\n",
        "\n"
      ],
      "metadata": {
        "id": "DdQU7h4o-xp6"
      }
    },
    {
      "cell_type": "code",
      "source": [
        "pm10_level = [ ]\n",
        "\n",
        "# calculate the average by finding the sum of all the numbers and then dividing it by the length of the list, then print the answer\n",
        "average = sum(pm10_level) / len(pm10_level)\n",
        "print(\"Average PM10: \", average)"
      ],
      "metadata": {
        "id": "SMSgB1ZA-3Fo"
      },
      "execution_count": null,
      "outputs": []
    },
    {
      "cell_type": "markdown",
      "source": [
        "---\n"
      ],
      "metadata": {
        "id": "ZJHq1k9nAfYe"
      }
    },
    {
      "cell_type": "markdown",
      "source": [
        "## Calculate the average level of NO2\n",
        "---\n",
        "\n",
        "Enter the 20 numbers from the NO2 column in the data collection sheet into the square brackets [ ]\n",
        "\n",
        "Add commas to separate the numbers e.g. [1,2,3,4,5], then click the play button.\n"
      ],
      "metadata": {
        "id": "xDcJeO-Y_JhY"
      }
    },
    {
      "cell_type": "code",
      "source": [
        "pm10_level = [ ]\n",
        "\n",
        "# calculate the average by finding the sum of all the numbers and then dividing it by the length of the list, then print the answer\n",
        "average = sum(pm10_level) / len(pm10_level)\n",
        "print(\"Average PM10: \", average)"
      ],
      "metadata": {
        "id": "KPnG79j1_Pon"
      },
      "execution_count": null,
      "outputs": []
    },
    {
      "cell_type": "markdown",
      "source": [
        "---\n"
      ],
      "metadata": {
        "id": "kn-LmvZOAgpG"
      }
    },
    {
      "cell_type": "markdown",
      "source": [
        "## Sort the percentiles in order of size\n",
        "---\n",
        "\n",
        "Enter the 20 numbers from the Percentile column in the data collection sheet into the square brackets [ ]\n",
        "\n",
        "Add commas to separate the numbers and click to run the code"
      ],
      "metadata": {
        "id": "qoPSUHNI_ofF"
      }
    },
    {
      "cell_type": "code",
      "source": [
        "percentiles = [ ]\n",
        "\n",
        "# sort the numbers into order smallest to largest\n",
        "sorted_percentiles = percentiles.sort()\n",
        "\n",
        "# print the numbers in the right order, one per line\n",
        "for each_percentile in percentiles:\n",
        "  print(each_percentile)"
      ],
      "metadata": {
        "id": "O3sz1aJlAx11"
      },
      "execution_count": null,
      "outputs": []
    },
    {
      "cell_type": "markdown",
      "source": [
        "---\n"
      ],
      "metadata": {
        "id": "68FLmqd-Ccrm"
      }
    },
    {
      "cell_type": "markdown",
      "source": [
        "# Create a bar chart to show the 20 percentiles\n",
        "---\n",
        "\n",
        "You are going to make a bar chart to show the differences between pollution scores for all the postcodes you have used.\n",
        "\n",
        "This time, enter the postcodes from the column in the data collection sheet into the square brackets [ ] for the list called **x**.. NOTE: you must add quotes around each postcode e.g. 'ME4 6BB'\n",
        "\n",
        "Copy the list of percentiles from the code box above (to save typing them in again) and paste them into the brackets for the list called **y**\n",
        "\n",
        "X is the values that will be shown along the bottom\n",
        "y is the values representing the scores that will show on the left side and will determine the height of the bars\n",
        "\n",
        "Make sure you add commas between values in lists.\n",
        "\n",
        "Click to run the code which will show a bar chart."
      ],
      "metadata": {
        "id": "cpQjOv4jCeU9"
      }
    },
    {
      "cell_type": "code",
      "source": [
        "import matplotlib.pyplot as plt\n",
        "\n",
        "x = [ ]\n",
        "y = [ ]\n",
        "\n",
        "# make a bar chart from the values in the x and y lists, then add labels for the x and y axes, rotate the text for the postcodes so that it will fit,  and show the chart\n",
        "plt.bar(x,y)\n",
        "plt.xlabel(\"Postcodes\")\n",
        "plt.ylabel(\"Pollution score (percentile)\")\n",
        "plt.xticks(rotation = 90)\n",
        "plt.show()"
      ],
      "metadata": {
        "id": "kILIExG1C_wv"
      },
      "execution_count": null,
      "outputs": []
    },
    {
      "cell_type": "markdown",
      "source": [
        "# Create a bar chart to show the 20 NO2 levels plus the WHO limit\n",
        "---\n",
        "\n",
        "You are going to make a bar chart to show the differences between NO2 levels for all the postcodes you have used.\n",
        "\n",
        "This time, copy the postcodes from the code above and paste them into the list **x**\n",
        "\n",
        "Copy the list of N02 levels from the relevant code box above  and paste them into the list **y**\n",
        "\n",
        "**x** is the set of values that will be shown along the bottom\n",
        "**y** is the set of values representing the scores that will show on the left side and will determine the height of the bars\n",
        "\n",
        "Make sure you add commas between values in lists.\n",
        "\n",
        "Lastly, this code will plot a horizontal line to show where the WHO limit is\n",
        "\n",
        "Click to run the code which will show a bar chart."
      ],
      "metadata": {
        "id": "jEYeXvzNF1Jv"
      }
    },
    {
      "cell_type": "code",
      "source": [
        "import matplotlib.pyplot as plt\n",
        "\n",
        "x = [ ]\n",
        "y = [ ]\n",
        "WHO_limit = 10\n",
        "\n",
        "# make a bar chart from the values in the x and y lists, then add labels for the x and y axes, rotate the text for the postcodes so that it will fit\n",
        "plt.bar(x,y)\n",
        "plt.xlabel(\"Postcodes\")\n",
        "plt.ylabel(\"mcg/m3\")\n",
        "plt.xticks(rotation = 90)\n",
        "\n",
        "# add the WHO limit line - (this bit is a bit complicated - it makes a list with the same number of items as x but they are all 10, then plots a red line over the bar chart)\n",
        "line_data = [10] * len(x)\n",
        "plt.plot(x,line_data, color=\"red\")\n",
        "plt.show()"
      ],
      "metadata": {
        "id": "SvhcBRsyHzq3"
      },
      "execution_count": null,
      "outputs": []
    }
  ]
}