{
  "nbformat": 4,
  "nbformat_minor": 0,
  "metadata": {
    "colab": {
      "name": "Learn Pie Chart.ipynb",
      "provenance": [],
      "collapsed_sections": [],
      "include_colab_link": true
    },
    "kernelspec": {
      "display_name": "Python 3",
      "name": "python3"
    },
    "language_info": {
      "name": "python"
    }
  },
  "cells": [
    {
      "cell_type": "markdown",
      "metadata": {
        "id": "view-in-github",
        "colab_type": "text"
      },
      "source": [
        "<a href=\"https://colab.research.google.com/github/futureCodersSE/tell-a-data-story/blob/main/Learn_Pie_Chart.ipynb\" target=\"_parent\"><img src=\"https://colab.research.google.com/assets/colab-badge.svg\" alt=\"Open In Colab\"/></a>"
      ]
    },
    {
      "cell_type": "markdown",
      "metadata": {
        "id": "AVCxMzqnFpGg"
      },
      "source": [
        "# Using Python code to change the data for creating a chart\n",
        "---\n",
        "\n",
        "You have now looked at a dataset using Pandas, dropped rows of data with missing values (nodata) and changed datatypes.  Let's use the same dataset to practise creating a line chart.\n",
        "\n",
        "## Setting up\n",
        "\n",
        "In the cell code below, write the code to:\n",
        "* import the pandas library\n",
        "* store the link (url)\n",
        "* create a dataframe from the dataset  (df= )\n",
        "* display the dataframe (df) info\n",
        "* drop the rows that have no data in the 'NO2 Level' column\n",
        "* change the datatype for the Date column to datetime\n",
        "* change the datatype for the NO2 Level column to float\n",
        "\n",
        "\n",
        "\n",
        "\n",
        "\n",
        "\n",
        " "
      ]
    },
    {
      "cell_type": "code",
      "metadata": {
        "id": "-TvPXkxFFmNJ"
      },
      "source": [
        "# copy the relevant code lines from the Learn 1 worksheet here\n"
      ],
      "execution_count": null,
      "outputs": []
    },
    {
      "cell_type": "markdown",
      "metadata": {
        "id": "DFkBpPeKi9f8"
      },
      "source": [
        "## Creating a Pie Chart\n",
        "\n",
        "Now you have linked to your dataset and your datatypes are correct for the Date and NO2 Levels, you can start to create a chart.  **Note**:  you must have run the code cell above before you can run the code cell below to make the chart.\n",
        "\n",
        "To start a chart you need to import a new library from Python (which must go before any code that needs to use it):\n",
        "```\n",
        "import matplotlib.pyplot as plt\n",
        "```\n",
        "In the code cell below, add the code to create a chart.  It will need  \n",
        "\n",
        "1. A title\n",
        "2. Data to represent with the pie segments \n",
        "3. A set of labels for the segments of the pie\n",
        "4. A chart type\n",
        "5. A command to tell the chart to draw\n",
        "\n",
        "A pie chart shows proportions and so it isn't relevant to show the NO2 Levels.  It might, however, be relevant to show the average levels for each day of the week.\n",
        "\n",
        "```\n",
        "1. plt.title('My chart title')\n",
        "2. data = ?\n",
        "3. labels = ? \n",
        "4. plt.pie(data, labels=labels)\n",
        "5. plt.show()\n",
        "```\n",
        "**Note:** the code for line 4 always starts with plt.pie(), but the data and labels in the brackets will depend on what you are plotting.   \n",
        "\n",
        "\n",
        "\n",
        "\n",
        "\n",
        "\n",
        "\n",
        "\n",
        "\n",
        "\n"
      ]
    },
    {
      "cell_type": "markdown",
      "metadata": {
        "id": "XpKc_UuuRGIk"
      },
      "source": [
        "## Grouping Data for the Chart\n",
        "\n",
        "Pie charts need a manageable number of data items.  For this chart we will be creating chart data that contains the average (median) NO2 level for each unique day in the Day column.  To get this data, we group the data into days and calculate the median of the data for each different day.\n",
        "\n",
        "```\n",
        "data = df.groupby('Day')['NO2 Level'].median()\n",
        "```\n"
      ]
    },
    {
      "cell_type": "markdown",
      "metadata": {
        "id": "vUWhsF1ihcak"
      },
      "source": [
        "## Creating Labels\n",
        "\n",
        "A pie chart has labels to show what each segment of your pie represents.  In this case, it will represent each different day in the Day column of your dataset (ie the days Mon to Sun, not repeated).  \n",
        "\n",
        "```\n",
        "labels = df['Day'].unique()\n",
        "```\n"
      ]
    },
    {
      "cell_type": "markdown",
      "metadata": {
        "id": "KruDvib7SgbT"
      },
      "source": [
        "## Creating the chart\n",
        "\n",
        "Have a go at adding and running the code shown above and see what the pie chart looks like.  Then change the title to something more appropriate."
      ]
    },
    {
      "cell_type": "code",
      "metadata": {
        "id": "W8xSimyducP7"
      },
      "source": [
        "import matplotlib.pyplot as plt\n",
        "\n",
        "# add code below to create the pie chart\n",
        "\n"
      ],
      "execution_count": null,
      "outputs": []
    },
    {
      "cell_type": "markdown",
      "metadata": {
        "id": "MzRd2pjWx0F9"
      },
      "source": [
        "You have now learnt the basics of creating a pie chart using a dataset and the matplotlib.pyplot library.  To learn how to change the style of a chart further, look at the worksheet called [Learn Styling Charts](https://colab.research.google.com/drive/1pTb2VbP6Etnbd-nyIqLSZKU_mezUFr1A?usp=sharing)."
      ]
    }
  ]
}